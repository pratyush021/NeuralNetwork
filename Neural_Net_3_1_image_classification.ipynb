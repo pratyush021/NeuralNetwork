{
  "nbformat": 4,
  "nbformat_minor": 0,
  "metadata": {
    "colab": {
      "name": "Neural_Net_3_1_image_classification.ipynb",
      "provenance": [],
      "private_outputs": true,
      "collapsed_sections": [],
      "authorship_tag": "ABX9TyNQaP5EYbbrK8js8h7vINPa",
      "include_colab_link": true
    },
    "kernelspec": {
      "name": "python3",
      "display_name": "Python 3"
    }
  },
  "cells": [
    {
      "cell_type": "markdown",
      "metadata": {
        "id": "view-in-github",
        "colab_type": "text"
      },
      "source": [
        "<a href=\"https://colab.research.google.com/github/pratyush021/NeuralNetwork/blob/master/Neural_Net_3_1_image_classification.ipynb\" target=\"_parent\"><img src=\"https://colab.research.google.com/assets/colab-badge.svg\" alt=\"Open In Colab\"/></a>"
      ]
    },
    {
      "cell_type": "code",
      "metadata": {
        "id": "9K7kj5z_iokC",
        "colab_type": "code",
        "colab": {}
      },
      "source": [
        "import numpy as np \n",
        "import matplotlib.pyplot as plt\n",
        "import keras \n",
        "from keras.datasets import mnist\n",
        "import seaborn as sns\n",
        "from keras.models import Sequential,Model\n",
        "from keras.layers import Dense,Flatten,Dropout\n",
        "from keras.optimizers import Adam\n",
        "from keras.utils.np_utils import to_categorical\n",
        "from keras.layers.convolutional import Conv2D,MaxPooling2D\n",
        "import random"
      ],
      "execution_count": 0,
      "outputs": []
    },
    {
      "cell_type": "code",
      "metadata": {
        "id": "kWfEjf24oUbL",
        "colab_type": "code",
        "colab": {}
      },
      "source": [
        "(x_train,y_train), (x_test,y_test) = mnist.load_data()"
      ],
      "execution_count": 0,
      "outputs": []
    },
    {
      "cell_type": "code",
      "metadata": {
        "id": "tfqQxbifjsGm",
        "colab_type": "code",
        "colab": {}
      },
      "source": [
        "num_of_samples = []\n",
        "\n",
        "cols = 5\n",
        "num_classes = 10\n",
        "\n",
        "fig, axs = plt.subplots(nrows = num_classes,ncols=cols,figsize=(5,10))\n",
        "fig.tight_layout()\n",
        "\n",
        "for i in range(cols):\n",
        "  for j in range(num_classes):\n",
        "    x_selected = x_train[y_train == j]\n",
        "    axs[j][i].imshow(x_selected[random.randint(0,(len(x_selected)-1)),:,:],\n",
        "                      cmap = plt.get_cmap('gray'))\n",
        "    axs[j][i].axis('off')\n",
        "    if i == 2:\n",
        "      axs[j][i].set_title(str(j))\n",
        "      num_of_samples.append(len(x_selected))"
      ],
      "execution_count": 0,
      "outputs": []
    },
    {
      "cell_type": "code",
      "metadata": {
        "id": "QIVn_8OonPsV",
        "colab_type": "code",
        "colab": {}
      },
      "source": [
        ""
      ],
      "execution_count": 0,
      "outputs": []
    },
    {
      "cell_type": "markdown",
      "metadata": {
        "id": "6CldxY6xqSdK",
        "colab_type": "text"
      },
      "source": [
        "print(num_of_samples)<br>\n",
        "plt.figure(figsize=(12,4))<br>\n",
        "plt.bar(range(0,num_classes),num_of_samples)<br>\n",
        "plt.title(\"Distribution of the train dataset \")<br>\n",
        "plt.xlabels(\"Class Number\")<br>\n",
        "plt.ylabels(\"No of images\")<br>\n",
        "plt.show()<br>\n"
      ]
    },
    {
      "cell_type": "code",
      "metadata": {
        "id": "d8lDCkN8praA",
        "colab_type": "code",
        "colab": {}
      },
      "source": [
        "x_train = x_train.reshape(60000,28,28,1)#1 is number of channels required for convolutional \n",
        "x_test = x_test.reshape(10000 ,28, 28,1)\n",
        "\n",
        "y_train = to_categorical(y_train , 10)#\n",
        "y_test = to_categorical(y_test, 10)\n",
        "\n",
        "x_train = x_train / 255\n",
        "x_test = x_test /  255"
      ],
      "execution_count": 0,
      "outputs": []
    },
    {
      "cell_type": "markdown",
      "metadata": {
        "id": "OZED4q1GsQyc",
        "colab_type": "text"
      },
      "source": [
        "# Convolutional"
      ]
    },
    {
      "cell_type": "code",
      "metadata": {
        "id": "QOnkHSYhsYL4",
        "colab_type": "code",
        "colab": {}
      },
      "source": [
        "model = Sequential()\n",
        "model.add(Conv2D(16,(5,5),input_shape = (28,28,1),\n",
        "                 activation = 'relu'))#input_shape = (height,width,channel)\n",
        "model.add(MaxPooling2D(pool_size=(2,2)))\n",
        "\n",
        "model.add(Conv2D(32,(3,3),activation = 'relu'))\n",
        "model.add(MaxPooling2D(pool_size = (2,2)))\n",
        "\n",
        "model.add(Flatten())\n",
        "\n",
        "model.add(Dense(512,activation='relu'))\n",
        "model.add(Dense(10,activation='softmax'))\n",
        "model.compile(Adam(lr = 0.01),loss='categorical_crossentropy',\n",
        "              metrics = ['accuracy'])\n",
        "print(model.summary())"
      ],
      "execution_count": 0,
      "outputs": []
    },
    {
      "cell_type": "code",
      "metadata": {
        "id": "8h8fNg5KzKak",
        "colab_type": "code",
        "colab": {}
      },
      "source": [
        "h = model.fit(x_train,y_train,epochs = 10, verbose = 1,validation_data=(x_test,y_test),\n",
        "              batch_size=128)"
      ],
      "execution_count": 0,
      "outputs": []
    },
    {
      "cell_type": "code",
      "metadata": {
        "id": "UbVNBnjw1PPn",
        "colab_type": "code",
        "colab": {}
      },
      "source": [
        "model.save(\"Convolutional_mnist.h5\")"
      ],
      "execution_count": 0,
      "outputs": []
    },
    {
      "cell_type": "code",
      "metadata": {
        "id": "r0I8zOWc4NKo",
        "colab_type": "code",
        "colab": {}
      },
      "source": [
        "from google.colab import files\n",
        "files.download('Convolutional_mnist.h5')"
      ],
      "execution_count": 0,
      "outputs": []
    },
    {
      "cell_type": "code",
      "metadata": {
        "id": "eL3d_sFn4W77",
        "colab_type": "code",
        "colab": {}
      },
      "source": [
        ""
      ],
      "execution_count": 0,
      "outputs": []
    }
  ]
}