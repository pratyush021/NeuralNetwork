{
  "nbformat": 4,
  "nbformat_minor": 0,
  "metadata": {
    "colab": {
      "name": "Neural_Net_3.0_image_classification.ipynb",
      "provenance": [],
      "private_outputs": true,
      "collapsed_sections": [],
      "authorship_tag": "ABX9TyO8/2RH2FllEpMbSu87kE1W",
      "include_colab_link": true
    },
    "kernelspec": {
      "name": "python3",
      "display_name": "Python 3"
    },
    "accelerator": "GPU"
  },
  "cells": [
    {
      "cell_type": "markdown",
      "metadata": {
        "id": "view-in-github",
        "colab_type": "text"
      },
      "source": [
        "<a href=\"https://colab.research.google.com/github/pratyush021/NeuralNetwork/blob/master/Neural_Net_3_0_image_classification.ipynb\" target=\"_parent\"><img src=\"https://colab.research.google.com/assets/colab-badge.svg\" alt=\"Open In Colab\"/></a>"
      ]
    },
    {
      "cell_type": "code",
      "metadata": {
        "id": "Ys2B35gNllUw",
        "colab_type": "code",
        "colab": {}
      },
      "source": [
        "\n"
      ],
      "execution_count": 0,
      "outputs": []
    },
    {
      "cell_type": "markdown",
      "metadata": {
        "id": "G2uTaNnTlpU0",
        "colab_type": "text"
      },
      "source": [
        "Hyperparameters = Parameters whose value is set before training begins <br>\n",
        "that is before model is fit "
      ]
    },
    {
      "cell_type": "markdown",
      "metadata": {
        "id": "nRbirbQ7mUZ-",
        "colab_type": "text"
      },
      "source": [
        "\n",
        "1. no of layers\n",
        "2. no of nodes \n",
        "3. activation funtion \n",
        "4. learning rate of optimiaztion \n",
        "5. the optimizer funciton \n",
        "6. no of epoches \n",
        "7. batch_size \n",
        "\n"
      ]
    },
    {
      "cell_type": "code",
      "metadata": {
        "id": "mQRaS1Dflz7R",
        "colab_type": "code",
        "colab": {}
      },
      "source": [
        "from keras.datasets import mnist\n",
        "import numpy as np \n",
        "import matplotlib.pyplot as plt\n",
        "import random \n",
        "import cv2\n",
        "import seaborn as sns\n",
        "\n",
        "from keras.models import Sequential\n",
        "from keras.layers import Dense\n",
        "from keras.optimizers import Adam\n",
        "from keras.utils.np_utils import to_categorical"
      ],
      "execution_count": 0,
      "outputs": []
    },
    {
      "cell_type": "code",
      "metadata": {
        "id": "FBVn154mgMtG",
        "colab_type": "code",
        "colab": {}
      },
      "source": [
        "(x_train,y_train) , (x_test,y_test) = mnist.load_data()"
      ],
      "execution_count": 0,
      "outputs": []
    },
    {
      "cell_type": "code",
      "metadata": {
        "id": "2LOVm1uxhwjD",
        "colab_type": "code",
        "colab": {}
      },
      "source": [
        "#x_train contains images and y_train contains labels \n",
        "print(x_train.shape,y_train.shape)\n",
        "#(no of images , height, width)"
      ],
      "execution_count": 0,
      "outputs": []
    },
    {
      "cell_type": "code",
      "metadata": {
        "id": "mO3OINtbixvV",
        "colab_type": "code",
        "colab": {}
      },
      "source": [
        "plt.imshow(x_train[1012])\n",
        "plt.title(y_train[1012],color = 'r')\n",
        "plt.show()"
      ],
      "execution_count": 0,
      "outputs": []
    },
    {
      "cell_type": "code",
      "metadata": {
        "id": "FYm9grJkjA1S",
        "colab_type": "code",
        "colab": {}
      },
      "source": [
        "sns.countplot(y_train)#counting number of images per category \n",
        "plt.show()"
      ],
      "execution_count": 0,
      "outputs": []
    },
    {
      "cell_type": "code",
      "metadata": {
        "id": "bpUCBeXHj2hS",
        "colab_type": "code",
        "colab": {}
      },
      "source": [
        "nrows = 10\n",
        "ncols = 5\n",
        "fig, axes = plt.subplots(nrows=nrows,ncols = ncols,figsize = (5,10))\n",
        "fig.tight_layout()\n",
        "for i in range(ncols):\n",
        "  for j in range(nrows):\n",
        "    selected_images = x_train[y_train == j]\n",
        "    image = selected_images[random.randint(0,len(selected_images)-1),:,:]\n",
        "    axes[j][i].imshow(image,cmap = 'gray')\n",
        "    axes[j][i].axis('off')"
      ],
      "execution_count": 0,
      "outputs": []
    },
    {
      "cell_type": "code",
      "metadata": {
        "id": "OYFePpe8lb3P",
        "colab_type": "code",
        "colab": {}
      },
      "source": [
        ""
      ],
      "execution_count": 0,
      "outputs": []
    },
    {
      "cell_type": "markdown",
      "metadata": {
        "id": "mgiFKmDWu9qi",
        "colab_type": "text"
      },
      "source": [
        "# Perseptron model"
      ]
    },
    {
      "cell_type": "code",
      "metadata": {
        "id": "LETn8P43mECI",
        "colab_type": "code",
        "colab": {}
      },
      "source": [
        "n_pixels = 28*28\n",
        "x_train = x_train.reshape(x_train.shape[0], n_pixels)\n",
        "x_test = x_test.reshape(x_test.shape[0],n_pixels)\n",
        "#should be executed only once "
      ],
      "execution_count": 0,
      "outputs": []
    },
    {
      "cell_type": "code",
      "metadata": {
        "id": "esSlZqAqvjXo",
        "colab_type": "code",
        "colab": {}
      },
      "source": [
        "#Scaling \n",
        "x_train = x_train/255\n",
        "x_test = x_test/255\n",
        "#should be executed only once "
      ],
      "execution_count": 0,
      "outputs": []
    },
    {
      "cell_type": "code",
      "metadata": {
        "id": "2NE3NaiYwLD4",
        "colab_type": "code",
        "colab": {}
      },
      "source": [
        "#one hot enode y_train\n",
        "y_train = to_categorical(y_train,10)\n",
        "y_test = to_categorical(y_test,10)\n",
        "#Should be executed once "
      ],
      "execution_count": 0,
      "outputs": []
    },
    {
      "cell_type": "code",
      "metadata": {
        "id": "T1YaJwfGxUSA",
        "colab_type": "code",
        "colab": {}
      },
      "source": [
        "model = Sequential()\n",
        "model.add(Dense(30,input_dim = n_pixels, activation = 'sigmoid'))\n",
        "model.add(Dense(60,activation = 'sigmoid'))\n",
        "model.add(Dense(120,activation = 'sigmoid'))\n",
        "model.add(Dense(10,activation = 'softmax'))\n",
        "model.compile(Adam(lr = 1e-4),loss = 'categorical_crossentropy',metrics =['accuracy'])\n",
        "print(model.summary())"
      ],
      "execution_count": 0,
      "outputs": []
    },
    {
      "cell_type": "code",
      "metadata": {
        "id": "oaq9aPvMxbvd",
        "colab_type": "code",
        "colab": {}
      },
      "source": [
        "h = model.fit(x_train,y_train,epochs = 10,verbose = 1,\n",
        "              validation_data = (x_test,y_test))"
      ],
      "execution_count": 0,
      "outputs": []
    },
    {
      "cell_type": "code",
      "metadata": {
        "id": "xgEjqJshznHh",
        "colab_type": "code",
        "colab": {}
      },
      "source": [
        "plt.plot(h.history['loss'],label = 'loss')\n",
        "plt.plot(h.history['val_loss'],label = 'val_loss')\n",
        "plt.legend()\n",
        "plt.show()"
      ],
      "execution_count": 0,
      "outputs": []
    },
    {
      "cell_type": "code",
      "metadata": {
        "id": "qyj1eATw1OXD",
        "colab_type": "code",
        "colab": {}
      },
      "source": [
        "plt.plot(h.history['acc'],label = 'acc')\n",
        "plt.plot(h.history['val_acc'],label = 'val_acc')\n",
        "plt.legend()\n",
        "plt.show()"
      ],
      "execution_count": 0,
      "outputs": []
    },
    {
      "cell_type": "code",
      "metadata": {
        "id": "-IyD7pnd1kSg",
        "colab_type": "code",
        "colab": {}
      },
      "source": [
        "model.save('sad_banana_mnist.h5')"
      ],
      "execution_count": 0,
      "outputs": []
    },
    {
      "cell_type": "code",
      "metadata": {
        "id": "QFvqn-qk16_z",
        "colab_type": "code",
        "colab": {}
      },
      "source": [
        "#from google.colab import files\n",
        "#files.download('sad_banana_mnist.h5')"
      ],
      "execution_count": 0,
      "outputs": []
    },
    {
      "cell_type": "code",
      "metadata": {
        "id": "CS0siiIS2C1f",
        "colab_type": "code",
        "colab": {}
      },
      "source": [
        ""
      ],
      "execution_count": 0,
      "outputs": []
    },
    {
      "cell_type": "code",
      "metadata": {
        "id": "tKfx1CAVcfDS",
        "colab_type": "code",
        "colab": {}
      },
      "source": [
        "from google.colab import files\n",
        "\n",
        "uploaded = files.upload()\n",
        "\n",
        "for fn in uploaded.keys():\n",
        "  print('User uploaded file \"{name}\" with length {length} bytes'.format(\n",
        "      name=fn, length=len(uploaded[fn])))"
      ],
      "execution_count": 0,
      "outputs": []
    },
    {
      "cell_type": "code",
      "metadata": {
        "id": "Q_RHh5mmclSR",
        "colab_type": "code",
        "colab": {}
      },
      "source": [
        "img = cv2.imread('calligraphic_3.jpg')\n",
        "plt.imshow(img,cmap = 'gray')\n",
        "plt.show()"
      ],
      "execution_count": 0,
      "outputs": []
    },
    {
      "cell_type": "code",
      "metadata": {
        "id": "hi0VTSCWdqUf",
        "colab_type": "code",
        "colab": {}
      },
      "source": [
        "def preprocess(img):\n",
        "  img = cv2.resize(img,(28,28))\n",
        "  img = cv2.cvtColor(img,cv2.COLOR_BGR2GRAY)\n",
        "  img = img.reshape(1,784)\n",
        "  img = img/255\n",
        "  return img"
      ],
      "execution_count": 0,
      "outputs": []
    },
    {
      "cell_type": "code",
      "metadata": {
        "id": "HIK4f4YneboP",
        "colab_type": "code",
        "colab": {}
      },
      "source": [
        "img = preprocess(img)"
      ],
      "execution_count": 0,
      "outputs": []
    },
    {
      "cell_type": "code",
      "metadata": {
        "id": "AoMMsBtmef7z",
        "colab_type": "code",
        "colab": {}
      },
      "source": [
        "model.predict_classes(img)"
      ],
      "execution_count": 0,
      "outputs": []
    },
    {
      "cell_type": "code",
      "metadata": {
        "id": "run1qlYJen61",
        "colab_type": "code",
        "colab": {}
      },
      "source": [
        ""
      ],
      "execution_count": 0,
      "outputs": []
    }
  ]
}