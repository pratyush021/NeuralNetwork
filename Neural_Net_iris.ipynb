{
  "nbformat": 4,
  "nbformat_minor": 0,
  "metadata": {
    "colab": {
      "name": "Neural_Net_iris.ipynb",
      "provenance": [],
      "private_outputs": true,
      "authorship_tag": "ABX9TyPla4iVZ/rESFHOIlO+Jk25",
      "include_colab_link": true
    },
    "kernelspec": {
      "name": "python3",
      "display_name": "Python 3"
    }
  },
  "cells": [
    {
      "cell_type": "markdown",
      "metadata": {
        "id": "view-in-github",
        "colab_type": "text"
      },
      "source": [
        "<a href=\"https://colab.research.google.com/github/pratyush021/NeuralNetwork/blob/master/Neural_Net_iris.ipynb\" target=\"_parent\"><img src=\"https://colab.research.google.com/assets/colab-badge.svg\" alt=\"Open In Colab\"/></a>"
      ]
    },
    {
      "cell_type": "code",
      "metadata": {
        "id": "GCB91wP9gHU2",
        "colab_type": "code",
        "colab": {}
      },
      "source": [
        "from sklearn.datasets import load_iris\n",
        "import matplotlib.pyplot as plt\n",
        "import numpy as np"
      ],
      "execution_count": 0,
      "outputs": []
    },
    {
      "cell_type": "code",
      "metadata": {
        "id": "nunYmQm0gLdG",
        "colab_type": "code",
        "colab": {}
      },
      "source": [
        "iris = load_iris()\n",
        "data = iris.data[:,2:4]\n",
        "labels = iris.target"
      ],
      "execution_count": 0,
      "outputs": []
    },
    {
      "cell_type": "code",
      "metadata": {
        "id": "FEIM4DeFgasG",
        "colab_type": "code",
        "colab": {}
      },
      "source": [
        "plt.scatter(data[:,0],data[:,1],c = labels)\n",
        "plt.show()"
      ],
      "execution_count": 0,
      "outputs": []
    },
    {
      "cell_type": "markdown",
      "metadata": {
        "id": "1roMbbZtgvP4",
        "colab_type": "text"
      },
      "source": [
        "<h1>data[:,0] means all the rows from zeroth column <br>\n",
        "and data[:,1] means all the rows from 1st column <br></h1>"
      ]
    },
    {
      "cell_type": "code",
      "metadata": {
        "id": "fQ3GHPs2gs8_",
        "colab_type": "code",
        "colab": {}
      },
      "source": [
        "# one hot encoding the labbels \n",
        "# to_categorical is a one hot encoder in keras \n",
        "from keras.utils.np_utils import to_categorical"
      ],
      "execution_count": 0,
      "outputs": []
    },
    {
      "cell_type": "code",
      "metadata": {
        "id": "fHP2JnU_hYmD",
        "colab_type": "code",
        "colab": {}
      },
      "source": [
        "labels = to_categorical(labels,3)\n",
        "#to_categorical(labels array ,no of categories )"
      ],
      "execution_count": 0,
      "outputs": []
    },
    {
      "cell_type": "code",
      "metadata": {
        "id": "0NWm7-bVhw6b",
        "colab_type": "code",
        "colab": {}
      },
      "source": [
        "import keras \n",
        "from keras.models import Sequential\n",
        "from keras.layers import Dense\n",
        "from keras.optimizers import adam"
      ],
      "execution_count": 0,
      "outputs": []
    },
    {
      "cell_type": "code",
      "metadata": {
        "id": "_eWtsmLPiGcE",
        "colab_type": "code",
        "colab": {}
      },
      "source": [
        "model = Sequential()\n",
        "model.add(Dense(30,input_dim = 2, activation = 'sigmoid'))\n",
        "model.add(Dense(15,activation='sigmoid'))\n",
        "model.add(Dense(3,activation = 'sigmoid'))\n",
        "model.compile(adam(lr = 0.01), loss = 'categorical_crossentropy',metrics = ['accuracy'])\n",
        "print(model.summary())"
      ],
      "execution_count": 0,
      "outputs": []
    },
    {
      "cell_type": "code",
      "metadata": {
        "id": "nej9ssYUiuUx",
        "colab_type": "code",
        "colab": {}
      },
      "source": [
        "h = model.fit(data,labels,epochs = 150, verbose = 1)"
      ],
      "execution_count": 0,
      "outputs": []
    },
    {
      "cell_type": "code",
      "metadata": {
        "id": "Ac9Q3lTYjLCN",
        "colab_type": "code",
        "colab": {}
      },
      "source": [
        "xmin,xmax = data[:,0].min()-1 , data[:,0].max()+1\n",
        "ymin,ymax = data[:,1].min()-1 , data[:,1].max()+1\n",
        "xx,yy = np.meshgrid(np.linspace(xmin,xmax),\n",
        "                    np.linspace(ymin,ymax))\n",
        "grid = np.c_[xx.ravel(),yy.ravel()]\n",
        "\n",
        "pred = model.predict_classes(grid).reshape(xx.shape)\n",
        "plt.contour(xx,yy,pred)\n",
        "plt.scatter(data[:,0],data[:,1],c = labels)\n",
        "plt.show()"
      ],
      "execution_count": 0,
      "outputs": []
    },
    {
      "cell_type": "code",
      "metadata": {
        "id": "oBJK4uAVkklS",
        "colab_type": "code",
        "colab": {}
      },
      "source": [
        ""
      ],
      "execution_count": 0,
      "outputs": []
    }
  ]
}