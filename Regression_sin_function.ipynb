{
  "nbformat": 4,
  "nbformat_minor": 0,
  "metadata": {
    "colab": {
      "name": "Regression_sin function.ipynb",
      "provenance": [],
      "private_outputs": true,
      "authorship_tag": "ABX9TyPw6GdeURM4PnJVKlI8FpF+",
      "include_colab_link": true
    },
    "kernelspec": {
      "name": "python3",
      "display_name": "Python 3"
    }
  },
  "cells": [
    {
      "cell_type": "markdown",
      "metadata": {
        "id": "view-in-github",
        "colab_type": "text"
      },
      "source": [
        "<a href=\"https://colab.research.google.com/github/pratyush021/NeuralNetwork/blob/master/Regression_sin_function.ipynb\" target=\"_parent\"><img src=\"https://colab.research.google.com/assets/colab-badge.svg\" alt=\"Open In Colab\"/></a>"
      ]
    },
    {
      "cell_type": "markdown",
      "metadata": {
        "id": "P6n2-80fU_0_",
        "colab_type": "text"
      },
      "source": [
        "Regression using neural net\n"
      ]
    },
    {
      "cell_type": "code",
      "metadata": {
        "id": "0zXEfK3jTt5B",
        "colab_type": "code",
        "colab": {}
      },
      "source": [
        "import numpy as np \n",
        "import matplotlib.pyplot as plt\n"
      ],
      "execution_count": 0,
      "outputs": []
    },
    {
      "cell_type": "code",
      "metadata": {
        "id": "ZXX2hqbeTz0s",
        "colab_type": "code",
        "colab": {}
      },
      "source": [
        "n_pts = 100\n",
        "x = np.linspace(-3,3,n_pts)\n",
        "\n",
        "y = np.sin(x) +np.random.uniform(-0.5,0.5,n_pts)\n",
        "plt.scatter(x,y)\n",
        "plt.show()"
      ],
      "execution_count": 0,
      "outputs": []
    },
    {
      "cell_type": "markdown",
      "metadata": {
        "id": "tomWY8ZLV_13",
        "colab_type": "text"
      },
      "source": [
        "<h2>Importing neural network libraries and utilities below </h2>"
      ]
    },
    {
      "cell_type": "code",
      "metadata": {
        "id": "rdDH2D49VkgX",
        "colab_type": "code",
        "colab": {}
      },
      "source": [
        "import keras \n",
        "from keras.models import Sequential\n",
        "from keras.layers import Dense\n",
        "from keras.optimizers import adam"
      ],
      "execution_count": 0,
      "outputs": []
    },
    {
      "cell_type": "code",
      "metadata": {
        "id": "btT3mbdnV4ob",
        "colab_type": "code",
        "colab": {}
      },
      "source": [
        "model = Sequential()\n",
        "model.add(Dense(4, input_dim = 1, activation = 'tanh'))\n",
        "model.add(Dense(3,activation = 'tanh'))\n",
        "model.add(Dense(1))\n",
        "model.compile(adam(lr = 0.1), loss = 'mse',metrics = ['mae'])"
      ],
      "execution_count": 0,
      "outputs": []
    },
    {
      "cell_type": "code",
      "metadata": {
        "id": "ZXENag0dXoyB",
        "colab_type": "code",
        "colab": {}
      },
      "source": [
        "print(model.summary())"
      ],
      "execution_count": 0,
      "outputs": []
    },
    {
      "cell_type": "code",
      "metadata": {
        "id": "ao3f3862YRZf",
        "colab_type": "code",
        "colab": {}
      },
      "source": [
        "h = model.fit(x,y,epochs = 100, verbose = 1)"
      ],
      "execution_count": 0,
      "outputs": []
    },
    {
      "cell_type": "code",
      "metadata": {
        "id": "jESVzUEJYrCK",
        "colab_type": "code",
        "colab": {}
      },
      "source": [
        ""
      ],
      "execution_count": 0,
      "outputs": []
    },
    {
      "cell_type": "code",
      "metadata": {
        "id": "-U381vloYvLM",
        "colab_type": "code",
        "colab": {}
      },
      "source": [
        ""
      ],
      "execution_count": 0,
      "outputs": []
    }
  ]
}