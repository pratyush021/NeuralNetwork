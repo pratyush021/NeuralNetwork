{
  "nbformat": 4,
  "nbformat_minor": 0,
  "metadata": {
    "colab": {
      "name": "face_data_git(working).ipynb",
      "provenance": [],
      "private_outputs": true,
      "collapsed_sections": [],
      "authorship_tag": "ABX9TyN1BsTTrUe5ARJw4x26bmRT",
      "include_colab_link": true
    },
    "kernelspec": {
      "name": "python3",
      "display_name": "Python 3"
    }
  },
  "cells": [
    {
      "cell_type": "markdown",
      "metadata": {
        "id": "view-in-github",
        "colab_type": "text"
      },
      "source": [
        "<a href=\"https://colab.research.google.com/github/pratyush021/NeuralNetwork/blob/master/face_data_git(working).ipynb\" target=\"_parent\"><img src=\"https://colab.research.google.com/assets/colab-badge.svg\" alt=\"Open In Colab\"/></a>"
      ]
    },
    {
      "cell_type": "code",
      "metadata": {
        "id": "bpQKIyW057pm",
        "colab_type": "code",
        "colab": {}
      },
      "source": [
        "!git clone https://github.com/shamaunalam/face_data.git"
      ],
      "execution_count": 0,
      "outputs": []
    },
    {
      "cell_type": "code",
      "metadata": {
        "id": "zSKtHuR26CI5",
        "colab_type": "code",
        "colab": {}
      },
      "source": [
        "import matplotlib.pyplot as plt\n",
        "import cv2\n",
        "import numpy as np \n",
        "import pickle"
      ],
      "execution_count": 0,
      "outputs": []
    },
    {
      "cell_type": "code",
      "metadata": {
        "id": "NQKquVaG6FFB",
        "colab_type": "code",
        "colab": {}
      },
      "source": [
        "with open('face_data/images.p','rb') as f:\n",
        "  images = pickle.load(f)\n",
        "\n",
        "with open('face_data/labels.p','rb') as f:\n",
        "  labels = pickle.load(f)\n"
      ],
      "execution_count": 0,
      "outputs": []
    },
    {
      "cell_type": "code",
      "metadata": {
        "id": "zWAJElNd6HKI",
        "colab_type": "code",
        "colab": {}
      },
      "source": [
        "plt.imshow(images[10],cmap='gray')\n",
        "plt.title(labels[10],color = 'b')\n",
        "plt.show()"
      ],
      "execution_count": 0,
      "outputs": []
    },
    {
      "cell_type": "code",
      "metadata": {
        "id": "-rD9tuso6JIQ",
        "colab_type": "code",
        "colab": {}
      },
      "source": [
        "from sklearn.model_selection import train_test_split\n",
        "x_train,x_test,y_train,y_test = train_test_split(images,labels,test_size=0.2)"
      ],
      "execution_count": 0,
      "outputs": []
    },
    {
      "cell_type": "code",
      "metadata": {
        "id": "Tcc4aGlh6Orf",
        "colab_type": "code",
        "colab": {}
      },
      "source": [
        "from sklearn.preprocessing import LabelEncoder\n",
        "le = LabelEncoder()\n",
        "y_train = le.fit_transform(y_train)\n",
        "y_test = le.transform(y_test)"
      ],
      "execution_count": 0,
      "outputs": []
    },
    {
      "cell_type": "code",
      "metadata": {
        "id": "CajHYXFP6i_h",
        "colab_type": "code",
        "colab": {}
      },
      "source": [
        "num_of_samples = []\n",
        "\n",
        "cols = 5\n",
        "num_classes = len(set(labels))\n",
        "\n",
        "fig, axs = plt.subplots(nrows = num_classes,ncols=cols,figsize=(10,25))\n",
        "fig.tight_layout()\n",
        "\n",
        "for i in range(cols):\n",
        "  for j in range(num_classes):\n",
        "    x_selected = x_train[y_train == j]\n",
        "    axs[j][i].imshow(x_selected[np.random.randint(0,(len(x_selected)-1)),:,:],\n",
        "                      cmap = plt.get_cmap('gray'))\n",
        "    axs[j][i].axis('off')\n",
        "    if i == 2:\n",
        "      axs[j][i].set_title(le.inverse_transform(np.array([j])))\n",
        "      num_of_samples.append(len(x_selected))"
      ],
      "execution_count": 0,
      "outputs": []
    },
    {
      "cell_type": "code",
      "metadata": {
        "id": "w2Ejq_F-7AjM",
        "colab_type": "code",
        "colab": {}
      },
      "source": [
        "le.inverse_transform(np.array([1]))"
      ],
      "execution_count": 0,
      "outputs": []
    },
    {
      "cell_type": "markdown",
      "metadata": {
        "id": "lQ89s7gBIAlp",
        "colab_type": "text"
      },
      "source": [
        "node in the network<br>\n",
        "32 32 64 64 128 128 510"
      ]
    },
    {
      "cell_type": "code",
      "metadata": {
        "id": "BSrfJZTG7abZ",
        "colab_type": "code",
        "colab": {}
      },
      "source": [
        ""
      ],
      "execution_count": 0,
      "outputs": []
    }
  ]
}